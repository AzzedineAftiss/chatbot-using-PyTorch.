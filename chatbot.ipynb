{
  "nbformat": 4,
  "nbformat_minor": 0,
  "metadata": {
    "colab": {
      "provenance": [],
      "collapsed_sections": []
    },
    "kernelspec": {
      "name": "python3",
      "display_name": "Python 3"
    },
    "language_info": {
      "name": "python"
    },
    "accelerator": "GPU"
  },
  "cells": [
    {
      "cell_type": "code",
      "execution_count": 31,
      "metadata": {
        "id": "H572EeG_gd25"
      },
      "outputs": [],
      "source": [
        "import nltk\n",
        "from nltk.stem.porter import PorterStemmer\n",
        "import torch\n",
        "import torch.nn as nn\n",
        "from torch.utils.data import Dataset, DataLoader\n",
        "import random\n",
        "import random\n",
        "import json\n",
        "import torch"
      ]
    },
    {
      "cell_type": "code",
      "source": [
        "nltk.download('punkt')"
      ],
      "metadata": {
        "colab": {
          "base_uri": "https://localhost:8080/"
        },
        "id": "9g2UgRFphUmx",
        "outputId": "aab0c376-dda9-4a1f-dde0-c388b047e2a3"
      },
      "execution_count": 11,
      "outputs": [
        {
          "output_type": "stream",
          "name": "stderr",
          "text": [
            "[nltk_data] Downloading package punkt to /root/nltk_data...\n",
            "[nltk_data]   Package punkt is already up-to-date!\n"
          ]
        },
        {
          "output_type": "execute_result",
          "data": {
            "text/plain": [
              "True"
            ]
          },
          "metadata": {},
          "execution_count": 11
        }
      ]
    },
    {
      "cell_type": "code",
      "source": [
        "stemmer = PorterStemmer()"
      ],
      "metadata": {
        "id": "19Q3GnLsnSIW"
      },
      "execution_count": 12,
      "outputs": []
    },
    {
      "cell_type": "code",
      "source": [
        "def tokenizer(sentence):\n",
        "  tokenized_sent = nltk.word_tokenize(sentence)\n",
        "  return tokenized_sent"
      ],
      "metadata": {
        "id": "sVKgur7DhiyJ"
      },
      "execution_count": 13,
      "outputs": []
    },
    {
      "cell_type": "code",
      "source": [
        "def stem(word):\n",
        "  stems = stemmer.stem(word.lower())\n",
        "  return stems"
      ],
      "metadata": {
        "id": "QmQRop87hyNl"
      },
      "execution_count": 14,
      "outputs": []
    },
    {
      "cell_type": "code",
      "source": [
        "def bag_of_words(tokenized_sentence, all_words):\n",
        "  tokenized_sentence = [stem(w) for w in tokenized_sentence]\n",
        "\n",
        "  bag = np.zeros(len(all_words), dtype=np.float32)\n",
        "  for idx, w in enumerate(all_words):\n",
        "    if w in tokenized_sentence:\n",
        "      bag[idx] = 1.0\n",
        "  \n",
        "  return bag"
      ],
      "metadata": {
        "id": "xf6tsnlReIhX"
      },
      "execution_count": 15,
      "outputs": []
    },
    {
      "cell_type": "code",
      "source": [
        "class NeuralNet(nn.Module):\n",
        "\n",
        "  def __init__(self, input_size, hidden_size, num_classes):\n",
        "    super(NeuralNet, self).__init__()\n",
        "    self.l1 = nn.Linear(input_size, hidden_size)\n",
        "    self.l2 = nn.Linear(hidden_size, hidden_size)\n",
        "    self.l3 = nn.Linear(hidden_size, num_classes)\n",
        "    self.relu = nn.ReLU()\n",
        "  \n",
        "  def forward(self, x):\n",
        "    # print(f\"x shape : {x.shape}\")\n",
        "    out = self.relu(self.l1(x))\n",
        "    # print(f\"out shape : {out.shape}\")\n",
        "    out = self.relu(self.l2(out))\n",
        "    # print(f\"out shape : {out.shape}\")\n",
        "    out = self.l3(out)\n",
        "    # print(f\"out shape : {out.shape}\")\n",
        "    return out\n"
      ],
      "metadata": {
        "id": "CQIv2TszdStm"
      },
      "execution_count": 16,
      "outputs": []
    },
    {
      "cell_type": "code",
      "source": [
        "import json\n",
        "import numpy as np"
      ],
      "metadata": {
        "id": "zUPdQ3YAlDMA"
      },
      "execution_count": 17,
      "outputs": []
    },
    {
      "cell_type": "code",
      "source": [
        "# read the data \n",
        "with open(\"/content/intents.json\", \"r\") as f:\n",
        "  intents = json.load(f)"
      ],
      "metadata": {
        "id": "79Tnz-q8lASe"
      },
      "execution_count": 20,
      "outputs": []
    },
    {
      "cell_type": "code",
      "source": [
        "all_words = []\n",
        "tags = []\n",
        "xy = []\n",
        "for intent in intents[\"intents\"]:\n",
        "  tag = intent[\"tag\"]\n",
        "  tags.append(tag)\n",
        "  for pattern in intent[\"patterns\"]:\n",
        "    w = tokenizer(pattern)\n",
        "    all_words.extend(w)\n",
        "    xy.append((w, tag))  \n",
        "\n",
        "\n",
        "ignored_words = [\"?\", \"!\", \".\"]\n",
        "all_words = [stem(word) for word in all_words if word not in ignored_words]\n",
        "all_words = sorted(set(all_words))\n",
        "tags = sorted(set(tags))\n",
        "print(f\"{len(xy)} patterns\")\n",
        "print(f\"{len(tags)} tags\")\n",
        "print(f\"{len(all_words)} unique stemmed words\")\n",
        "print(all_words)"
      ],
      "metadata": {
        "id": "2-tG9KNJlUNt",
        "colab": {
          "base_uri": "https://localhost:8080/"
        },
        "outputId": "33e88090-5b86-4e31-b455-466993292929"
      },
      "execution_count": 21,
      "outputs": [
        {
          "output_type": "stream",
          "name": "stdout",
          "text": [
            "26 patterns\n",
            "7 tags\n",
            "54 unique stemmed words\n",
            "[\"'s\", 'a', 'accept', 'anyon', 'are', 'bye', 'can', 'card', 'cash', 'credit', 'day', 'deliveri', 'do', 'doe', 'funni', 'get', 'good', 'goodby', 'have', 'hello', 'help', 'hey', 'hi', 'how', 'i', 'is', 'item', 'joke', 'kind', 'know', 'later', 'long', 'lot', 'mastercard', 'me', 'my', 'of', 'onli', 'pay', 'paypal', 'see', 'sell', 'ship', 'someth', 'take', 'tell', 'thank', 'that', 'there', 'what', 'when', 'which', 'with', 'you']\n"
          ]
        }
      ]
    },
    {
      "cell_type": "code",
      "source": [
        "x_train = []\n",
        "y_train = []\n",
        "for (pattern_sentence, tag) in xy:\n",
        "  bag = bag_of_words(pattern_sentence, all_words)\n",
        "  x_train.append(bag)\n",
        "\n",
        "  label = tags.index(tag)\n",
        "  y_train.append(label)\n",
        "\n",
        "x_train = np.array(x_train)\n",
        "y_train = np.array(y_train)"
      ],
      "metadata": {
        "id": "pb0C3R4qcXpc"
      },
      "execution_count": 22,
      "outputs": []
    },
    {
      "cell_type": "code",
      "source": [
        "# with open('intents.json', 'r') as f:\n",
        "#     intents = json.load(f)\n",
        "\n",
        "# all_words = []\n",
        "# tags = []\n",
        "# xy = []\n",
        "# # loop through each sentence in our intents patterns\n",
        "# for intent in intents['intents']:\n",
        "#     tag = intent['tag']\n",
        "#     # add to tag list\n",
        "#     tags.append(tag)\n",
        "#     for pattern in intent['patterns']:\n",
        "#         # tokenize each word in the sentence\n",
        "#         w = tokenize(pattern)\n",
        "#         # add to our words list\n",
        "#         all_words.extend(w)\n",
        "#         # add to xy pair\n",
        "#         xy.append((w, tag))\n",
        "\n",
        "# # stem and lower each word\n",
        "# ignore_words = ['?', '.', '!']\n",
        "# all_words = [stem(w) for w in all_words if w not in ignore_words]\n",
        "# # remove duplicates and sort\n",
        "# all_words = sorted(set(all_words))\n",
        "# tags = sorted(set(tags))\n",
        "\n",
        "# print(len(xy), \"patterns\")\n",
        "# print(len(tags), \"tags:\", tags)\n",
        "# print(len(all_words), \"unique stemmed words:\", all_words)\n",
        "\n",
        "# # create training data\n",
        "# X_train = []\n",
        "# y_train = []\n",
        "# for (pattern_sentence, tag) in xy:\n",
        "#     # X: bag of words for each pattern_sentence\n",
        "#     bag = bag_of_words(pattern_sentence, all_words)\n",
        "#     X_train.append(bag)\n",
        "#     # y: PyTorch CrossEntropyLoss needs only class labels, not one-hot\n",
        "#     label = tags.index(tag)\n",
        "#     y_train.append(label)\n",
        "\n",
        "# X_train = np.array(X_train)\n",
        "# y_train = np.array(y_train)\n"
      ],
      "metadata": {
        "id": "86gjCAvinpZ2",
        "colab": {
          "base_uri": "https://localhost:8080/"
        },
        "outputId": "24167db0-79d5-4adc-8b34-80a25f468d29"
      },
      "execution_count": 212,
      "outputs": [
        {
          "output_type": "stream",
          "name": "stdout",
          "text": [
            "26 patterns\n",
            "7 tags: ['delivery', 'funny', 'goodbye', 'greeting', 'items', 'payments', 'thanks']\n",
            "54 unique stemmed words: [\"'s\", 'a', 'accept', 'anyon', 'are', 'bye', 'can', 'card', 'cash', 'credit', 'day', 'deliveri', 'do', 'doe', 'funni', 'get', 'good', 'goodby', 'have', 'hello', 'help', 'hey', 'hi', 'how', 'i', 'is', 'item', 'joke', 'kind', 'know', 'later', 'long', 'lot', 'mastercard', 'me', 'my', 'of', 'onli', 'pay', 'paypal', 'see', 'sell', 'ship', 'someth', 'take', 'tell', 'thank', 'that', 'there', 'what', 'when', 'which', 'with', 'you']\n"
          ]
        }
      ]
    },
    {
      "cell_type": "code",
      "source": [],
      "metadata": {
        "id": "QtYL7MeHdkya"
      },
      "execution_count": 212,
      "outputs": []
    },
    {
      "cell_type": "code",
      "source": [],
      "metadata": {
        "id": "kl9HWqwzeK9A"
      },
      "execution_count": 212,
      "outputs": []
    },
    {
      "cell_type": "code",
      "source": [
        "\n",
        "# all_words = list(set(all_words))\n",
        "# tags = list(set(tags))\n",
        "# print(f\"length of all_words are : {len(all_words)}\")\n",
        "# ignored_words = [\"?\", \"!\", \".\", \",\"]\n",
        "# all_words = [word for word in all_words if word not in ignored_words]\n",
        "# print(f\"length of all_words are : {len(all_words)}\")"
      ],
      "metadata": {
        "id": "6dHIjRv9oJnA"
      },
      "execution_count": 213,
      "outputs": []
    },
    {
      "cell_type": "code",
      "source": [
        "# print(all_words)"
      ],
      "metadata": {
        "id": "VNansOYka_-i"
      },
      "execution_count": 214,
      "outputs": []
    },
    {
      "cell_type": "code",
      "source": [
        "# sentence = [\"hello\", \"how\", \"are\", \"you\"]\n",
        "# words = [\"hi\", \"hello\", \"I\", \"you\", \"thank\", \"cool\"]\n",
        "# bag_of_words(sentence, words)"
      ],
      "metadata": {
        "id": "CUcYHYQYfUrx"
      },
      "execution_count": 215,
      "outputs": []
    },
    {
      "cell_type": "code",
      "source": [
        "# sentence = \"hello how are you\"\n",
        "# tkns = tokenizer(sentence)\n",
        "# bag_of_words(tkns, all_words).shape"
      ],
      "metadata": {
        "id": "E-fg1hBHfN_x"
      },
      "execution_count": 216,
      "outputs": []
    },
    {
      "cell_type": "code",
      "source": [],
      "metadata": {
        "id": "QyEV_N54pLg8"
      },
      "execution_count": 216,
      "outputs": []
    },
    {
      "cell_type": "code",
      "source": [],
      "metadata": {
        "id": "LdGjEeYoc0yj"
      },
      "execution_count": 216,
      "outputs": []
    },
    {
      "cell_type": "code",
      "source": [],
      "metadata": {
        "id": "irmsBvGVdZkf"
      },
      "execution_count": 216,
      "outputs": []
    },
    {
      "cell_type": "code",
      "source": [
        "class ChatDataset(Dataset):\n",
        "\n",
        "  def __init__(self):\n",
        "    self.n_samples = len(x_train)\n",
        "    self.x_data = x_train\n",
        "    self.y_data = y_train\n",
        "  \n",
        "  def __getitem__(self, index):\n",
        "    return self.x_data[index], self.y_data[index]\n",
        "  \n",
        "  def __len__(self):\n",
        "    return self.n_samples\n",
        "    "
      ],
      "metadata": {
        "id": "6c9OT2mng-Fs"
      },
      "execution_count": 23,
      "outputs": []
    },
    {
      "cell_type": "code",
      "source": [
        "dataset = ChatDataset()\n",
        "data_dl = DataLoader(dataset, batch_size=5, shuffle=True, num_workers=0)"
      ],
      "metadata": {
        "id": "E9P7YBk_qWay"
      },
      "execution_count": 24,
      "outputs": []
    },
    {
      "cell_type": "code",
      "source": [
        "device = torch.device('cuda' if torch.cuda.is_available() else 'cpu')"
      ],
      "metadata": {
        "id": "iUtLR6B9ytX6"
      },
      "execution_count": 25,
      "outputs": []
    },
    {
      "cell_type": "code",
      "source": [
        "# input_size"
      ],
      "metadata": {
        "id": "9lQmGuVMAb_h"
      },
      "execution_count": 221,
      "outputs": []
    },
    {
      "cell_type": "code",
      "source": [
        "hidden_size = 20\n",
        "output_size = len(tags)\n",
        "input_size = len(x_train[0])\n",
        "num_classes = len(tags)\n",
        "lr = 0.001\n",
        "num_epochs = 1000\n"
      ],
      "metadata": {
        "id": "En6-nL78yCUU"
      },
      "execution_count": 27,
      "outputs": []
    },
    {
      "cell_type": "code",
      "source": [
        "model = NeuralNet(input_size, hidden_size, num_classes).to(device)"
      ],
      "metadata": {
        "id": "Vrlq5nnmx0pi"
      },
      "execution_count": 28,
      "outputs": []
    },
    {
      "cell_type": "code",
      "source": [
        "criterion = nn.CrossEntropyLoss()\n",
        "optimizer = torch.optim.Adam(model.parameters(), lr=lr)\n",
        "# epoch_loss = []\n",
        "for epoch in range(num_epochs):\n",
        "  loss_lst = []\n",
        "  for (words, labels) in data_dl:\n",
        "    words = words.to(device)\n",
        "    batch_size = words.shape[0]\n",
        "    labels = labels.to(dtype=torch.long).to(device)\n",
        "\n",
        "    # forward\n",
        "    # print(f\"words = {words.shape}\") \n",
        "    outputs = model(words)\n",
        "    loss = criterion(outputs, labels)\n",
        "\n",
        "    # backward and optimizer\n",
        "    optimizer.zero_grad()\n",
        "    loss.backward()\n",
        "    optimizer.step()\n",
        "    # loss.item()*batch_size)\n",
        "    if (epoch +1)%100 == 0:\n",
        "      print (f'Epoch [{epoch+1}/{num_epochs}], Loss: {loss.item():.4f}')\n",
        "  # epoch_loss.append(np.)\n",
        "print(f\"final loss, loss = {loss.item():.4f}\")\n",
        "\n",
        "data = {\n",
        "    \"model_state\": model.state_dict(),\n",
        "    \"input_size\": input_size, \n",
        "    \"output_size\": output_size,\n",
        "    \"hidden_size\": hidden_size,\n",
        "    \"all_words\": all_words,\n",
        "    \"tags\": tags\n",
        "}"
      ],
      "metadata": {
        "colab": {
          "base_uri": "https://localhost:8080/"
        },
        "id": "zz950L85zMVg",
        "outputId": "37db19ca-5d42-457c-e048-e525cea6a3ca"
      },
      "execution_count": 29,
      "outputs": [
        {
          "output_type": "stream",
          "name": "stdout",
          "text": [
            "Epoch [100/1000], Loss: 0.0551\n",
            "Epoch [100/1000], Loss: 0.0612\n",
            "Epoch [100/1000], Loss: 0.1128\n",
            "Epoch [100/1000], Loss: 0.1171\n",
            "Epoch [100/1000], Loss: 0.0640\n",
            "Epoch [100/1000], Loss: 0.0680\n",
            "Epoch [200/1000], Loss: 0.0111\n",
            "Epoch [200/1000], Loss: 0.0050\n",
            "Epoch [200/1000], Loss: 0.0070\n",
            "Epoch [200/1000], Loss: 0.0052\n",
            "Epoch [200/1000], Loss: 0.0090\n",
            "Epoch [200/1000], Loss: 0.0034\n",
            "Epoch [300/1000], Loss: 0.0011\n",
            "Epoch [300/1000], Loss: 0.0031\n",
            "Epoch [300/1000], Loss: 0.0026\n",
            "Epoch [300/1000], Loss: 0.0030\n",
            "Epoch [300/1000], Loss: 0.0026\n",
            "Epoch [300/1000], Loss: 0.0004\n",
            "Epoch [400/1000], Loss: 0.0014\n",
            "Epoch [400/1000], Loss: 0.0008\n",
            "Epoch [400/1000], Loss: 0.0009\n",
            "Epoch [400/1000], Loss: 0.0010\n",
            "Epoch [400/1000], Loss: 0.0014\n",
            "Epoch [400/1000], Loss: 0.0018\n",
            "Epoch [500/1000], Loss: 0.0012\n",
            "Epoch [500/1000], Loss: 0.0003\n",
            "Epoch [500/1000], Loss: 0.0005\n",
            "Epoch [500/1000], Loss: 0.0007\n",
            "Epoch [500/1000], Loss: 0.0005\n",
            "Epoch [500/1000], Loss: 0.0004\n",
            "Epoch [600/1000], Loss: 0.0007\n",
            "Epoch [600/1000], Loss: 0.0005\n",
            "Epoch [600/1000], Loss: 0.0002\n",
            "Epoch [600/1000], Loss: 0.0002\n",
            "Epoch [600/1000], Loss: 0.0002\n",
            "Epoch [600/1000], Loss: 0.0003\n",
            "Epoch [700/1000], Loss: 0.0002\n",
            "Epoch [700/1000], Loss: 0.0002\n",
            "Epoch [700/1000], Loss: 0.0001\n",
            "Epoch [700/1000], Loss: 0.0002\n",
            "Epoch [700/1000], Loss: 0.0004\n",
            "Epoch [700/1000], Loss: 0.0001\n",
            "Epoch [800/1000], Loss: 0.0001\n",
            "Epoch [800/1000], Loss: 0.0002\n",
            "Epoch [800/1000], Loss: 0.0002\n",
            "Epoch [800/1000], Loss: 0.0001\n",
            "Epoch [800/1000], Loss: 0.0001\n",
            "Epoch [800/1000], Loss: 0.0002\n",
            "Epoch [900/1000], Loss: 0.0001\n",
            "Epoch [900/1000], Loss: 0.0002\n",
            "Epoch [900/1000], Loss: 0.0001\n",
            "Epoch [900/1000], Loss: 0.0000\n",
            "Epoch [900/1000], Loss: 0.0001\n",
            "Epoch [900/1000], Loss: 0.0001\n",
            "Epoch [1000/1000], Loss: 0.0001\n",
            "Epoch [1000/1000], Loss: 0.0001\n",
            "Epoch [1000/1000], Loss: 0.0001\n",
            "Epoch [1000/1000], Loss: 0.0001\n",
            "Epoch [1000/1000], Loss: 0.0000\n",
            "Epoch [1000/1000], Loss: 0.0000\n",
            "final loss, loss = 0.0000\n"
          ]
        }
      ]
    },
    {
      "cell_type": "code",
      "source": [
        "FILE = \"data.pth\"\n",
        "torch.save(data, FILE)\n",
        "print(f\"Training complete, file saved to {FILE}\")"
      ],
      "metadata": {
        "colab": {
          "base_uri": "https://localhost:8080/"
        },
        "id": "LJF99LDr3sbm",
        "outputId": "c973c4ee-13b9-49c2-f5c8-8e86abc9e6ed"
      },
      "execution_count": 225,
      "outputs": [
        {
          "output_type": "stream",
          "name": "stdout",
          "text": [
            "Training complete, file saved to data.pth\n"
          ]
        }
      ]
    },
    {
      "cell_type": "code",
      "source": [
        "device = torch.device('cuda' if torch.cuda.is_available() else 'cpu')"
      ],
      "metadata": {
        "id": "KlnlGcqa48LC"
      },
      "execution_count": 97,
      "outputs": []
    },
    {
      "cell_type": "code",
      "source": [
        "with open('intents.json', 'r') as f:\n",
        "  intents = json.load(f)"
      ],
      "metadata": {
        "id": "-1MyTBm65Ex7"
      },
      "execution_count": 98,
      "outputs": []
    },
    {
      "cell_type": "code",
      "source": [
        "FILE = \"data.pth\"\n",
        "data = torch.load(FILE)"
      ],
      "metadata": {
        "id": "AnBSN1XY5Swh"
      },
      "execution_count": 99,
      "outputs": []
    },
    {
      "cell_type": "code",
      "source": [
        "input_size = data[\"input_size\"]\n",
        "hidden_size = data[\"hidden_size\"]\n",
        "output_size = data[\"output_size\"]"
      ],
      "metadata": {
        "id": "lFatroG85W6s"
      },
      "execution_count": 100,
      "outputs": []
    },
    {
      "cell_type": "code",
      "source": [
        "model = NeuralNet(input_size, hidden_size, output_size).to(device)\n",
        "model = model.eval()"
      ],
      "metadata": {
        "id": "aAkRRIG35hxY"
      },
      "execution_count": 101,
      "outputs": []
    },
    {
      "cell_type": "code",
      "source": [
        "input_size = data[\"input_size\"]\n",
        "hidden_size = data[\"hidden_size\"]\n",
        "output_size = data[\"output_size\"]\n",
        "all_words = data[\"all_words\"]\n",
        "tags = data[\"tags\"]"
      ],
      "metadata": {
        "id": "ZnjQJ50z53mA"
      },
      "execution_count": 102,
      "outputs": []
    },
    {
      "cell_type": "code",
      "source": [
        "model_state = data[\"model_state\"]"
      ],
      "metadata": {
        "id": "oFySbVtm6mOX"
      },
      "execution_count": 103,
      "outputs": []
    },
    {
      "cell_type": "code",
      "source": [
        "model.load_state_dict(model_state)\n",
        "model.eval()"
      ],
      "metadata": {
        "id": "iGRsYdmc6uHE",
        "colab": {
          "base_uri": "https://localhost:8080/"
        },
        "outputId": "41677106-f348-4407-c1e6-b2cfbafa7675"
      },
      "execution_count": 104,
      "outputs": [
        {
          "output_type": "execute_result",
          "data": {
            "text/plain": [
              "NeuralNet(\n",
              "  (l1): Linear(in_features=57, out_features=8, bias=True)\n",
              "  (l2): Linear(in_features=8, out_features=8, bias=True)\n",
              "  (l3): Linear(in_features=8, out_features=7, bias=True)\n",
              "  (relu): ReLU()\n",
              ")"
            ]
          },
          "metadata": {},
          "execution_count": 104
        }
      ]
    },
    {
      "cell_type": "code",
      "source": [
        "bot_name = \"youssef\"\n",
        "print(\"Let's chat! type 'quit' to exit : \")\n",
        "while True:\n",
        "  sentence = input('You: ')\n",
        "  if sentence == 'quit':\n",
        "    break\n",
        "    \n",
        "  sentence = tokenizer(sentence)\n",
        "  X = bag_of_words(sentence, all_words)\n",
        "  X = X.reshape(1, X.shape[0])\n",
        "  X = torch.from_numpy(X).to(device)\n",
        "\n",
        "  output = model(X)\n",
        "  _, predicted = torch.max(output, dim=1)\n",
        "  tag = tags[predicted.item()]\n",
        "\n",
        "  probs = torch.softmax(output, dim=1)\n",
        "  prob = probs[0][predicted.item()]\n",
        "\n",
        "  if prob.item() > 0.75:\n",
        "    for intent in intents[\"intents\"]:\n",
        "      if tag == intent[\"tag\"]:\n",
        "        print(f\"{bot_name}: {random.choice(intent['responses'])}\")\n",
        "  \n",
        "  else:\n",
        "    print(f\"{bot_name}: I do not understand ....\")"
      ],
      "metadata": {
        "id": "6XUmqiQO7VU1"
      },
      "execution_count": 238,
      "outputs": []
    },
    {
      "cell_type": "code",
      "source": [],
      "metadata": {
        "id": "8uGNOAaLVnb2"
      },
      "execution_count": null,
      "outputs": []
    },
    {
      "cell_type": "code",
      "source": [],
      "metadata": {
        "id": "_igRLJ3lZQGu"
      },
      "execution_count": null,
      "outputs": []
    }
  ]
}